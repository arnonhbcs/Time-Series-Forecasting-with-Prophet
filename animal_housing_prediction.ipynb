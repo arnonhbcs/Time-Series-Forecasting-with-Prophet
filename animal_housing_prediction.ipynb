{
 "cells": [
  {
   "cell_type": "markdown",
   "metadata": {},
   "source": [
    "# Time Series Forecasting with Prophet\n",
    "\n",
    "In this project, we will use the **Prophet** framework to predict outcomes for domestic animals at the Austin Animal Housing.\n",
    "\n",
    "## Prophet and Time Series\n",
    "\n",
    "Time series forecasting can be challenging, as it often involves complex statistical models. This makes it a difficult task for ML engineers, statisticians, and economists alike.\n",
    "\n",
    "To simplify forecasting tasks, Meta developed **Prophet**—a framework capable of generating automated predictions in a relatively short runtime. It was originally created to address Facebook's internal forecasting needs and tends to work well on data that meets the following criteria:\n",
    "\n",
    "- Data collected over long periods of time  \n",
    "- Strong, clearly visible seasonal patterns  \n",
    "- Known holidays or special dates  \n",
    "- Nonlinear trends that approach a limit\n",
    "\n",
    "## The Prophet Model for Time Series\n",
    "\n",
    "Prophet decomposes time series data into three main components:\n",
    "\n",
    "$$\n",
    "y(t) = g(t) + s(t) + h(t) + \\varepsilon_t\n",
    "$$\n",
    "\n",
    "- $g(t)$ (Trend): Models non-periodic changes in the time series.  \n",
    "- $s(t)$ (Seasonality): Captures recurring patterns or cycles in the data.  \n",
    "- $h(t)$ (Holidays): Accounts for the effects of holidays and special events.  \n",
    "- $\\varepsilon_t$ (Error): Represents residual noise, typically assumed to follow a Gaussian distribution."
   ]
  }
 ],
 "metadata": {
  "language_info": {
   "name": "python"
  }
 },
 "nbformat": 4,
 "nbformat_minor": 2
}
